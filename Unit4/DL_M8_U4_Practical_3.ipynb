{
 "cells": [
  {
   "cell_type": "code",
   "execution_count": 1,
   "metadata": {},
   "outputs": [],
   "source": [
    "%matplotlib inline\n"
   ]
  },
  {
   "cell_type": "markdown",
   "metadata": {},
   "source": [
    "### Supervised Learning : Recurrent Neural Networks \n",
    "\n",
    "Welcome to the \"Supervised Learning : Recurrent Neural Networks\" practical session.  \n",
    "\n",
    "Programming Language : Python \n",
    "Editor : Jupyter Notebook. \n",
    "\n",
    "Pandas : Data loading, processing, transformation and manipulation.\n",
    "Scikit-learn : Example data source, ML and statistical analysis\n"
   ]
  },
  {
   "cell_type": "code",
   "execution_count": 6,
   "metadata": {},
   "outputs": [],
   "source": [
    "import pandas as pd\n",
    "import numpy as np\n",
    "from sklearn.preprocessing import MinMaxScaler\n",
    "from keras.models import Sequential\n",
    "from keras.layers import Dense, LSTM\n",
    "import matplotlib.pyplot as plt\n"
   ]
  },
  {
   "cell_type": "markdown",
   "metadata": {},
   "source": [
    "#### Load relevant data and partition the data for train and test\n",
    "Here we will use a covid 19 confirmed new infection data set.\n",
    "After loading the data we will partition the data into train and test. \n",
    "In this example we will 95% data for training and remaining 5% will be left for testing. "
   ]
  },
  {
   "cell_type": "code",
   "execution_count": 7,
   "metadata": {},
   "outputs": [
    {
     "data": {
      "text/html": [
       "<div>\n",
       "<style scoped>\n",
       "    .dataframe tbody tr th:only-of-type {\n",
       "        vertical-align: middle;\n",
       "    }\n",
       "\n",
       "    .dataframe tbody tr th {\n",
       "        vertical-align: top;\n",
       "    }\n",
       "\n",
       "    .dataframe thead th {\n",
       "        text-align: right;\n",
       "    }\n",
       "</style>\n",
       "<table border=\"1\" class=\"dataframe\">\n",
       "  <thead>\n",
       "    <tr style=\"text-align: right;\">\n",
       "      <th></th>\n",
       "      <th>date</th>\n",
       "      <th>new_infections</th>\n",
       "    </tr>\n",
       "  </thead>\n",
       "  <tbody>\n",
       "    <tr>\n",
       "      <th>0</th>\n",
       "      <td>2020-01-22</td>\n",
       "      <td>0.0</td>\n",
       "    </tr>\n",
       "    <tr>\n",
       "      <th>1</th>\n",
       "      <td>2020-01-23</td>\n",
       "      <td>0.0</td>\n",
       "    </tr>\n",
       "    <tr>\n",
       "      <th>2</th>\n",
       "      <td>2020-01-24</td>\n",
       "      <td>0.0</td>\n",
       "    </tr>\n",
       "    <tr>\n",
       "      <th>3</th>\n",
       "      <td>2020-01-25</td>\n",
       "      <td>0.0</td>\n",
       "    </tr>\n",
       "    <tr>\n",
       "      <th>4</th>\n",
       "      <td>2020-01-26</td>\n",
       "      <td>0.0</td>\n",
       "    </tr>\n",
       "    <tr>\n",
       "      <th>...</th>\n",
       "      <td>...</td>\n",
       "      <td>...</td>\n",
       "    </tr>\n",
       "    <tr>\n",
       "      <th>72</th>\n",
       "      <td>2020-04-03</td>\n",
       "      <td>119827.0</td>\n",
       "    </tr>\n",
       "    <tr>\n",
       "      <th>73</th>\n",
       "      <td>2020-04-04</td>\n",
       "      <td>124632.0</td>\n",
       "    </tr>\n",
       "    <tr>\n",
       "      <th>74</th>\n",
       "      <td>2020-04-05</td>\n",
       "      <td>128948.0</td>\n",
       "    </tr>\n",
       "    <tr>\n",
       "      <th>75</th>\n",
       "      <td>2020-04-06</td>\n",
       "      <td>132547.0</td>\n",
       "    </tr>\n",
       "    <tr>\n",
       "      <th>76</th>\n",
       "      <td>2020-04-07</td>\n",
       "      <td>135586.0</td>\n",
       "    </tr>\n",
       "  </tbody>\n",
       "</table>\n",
       "<p>77 rows × 2 columns</p>\n",
       "</div>"
      ],
      "text/plain": [
       "          date  new_infections\n",
       "0   2020-01-22             0.0\n",
       "1   2020-01-23             0.0\n",
       "2   2020-01-24             0.0\n",
       "3   2020-01-25             0.0\n",
       "4   2020-01-26             0.0\n",
       "..         ...             ...\n",
       "72  2020-04-03        119827.0\n",
       "73  2020-04-04        124632.0\n",
       "74  2020-04-05        128948.0\n",
       "75  2020-04-06        132547.0\n",
       "76  2020-04-07        135586.0\n",
       "\n",
       "[77 rows x 2 columns]"
      ]
     },
     "execution_count": 7,
     "metadata": {},
     "output_type": "execute_result"
    }
   ],
   "source": [
    "## We Load the complete data for new infection  ##\n",
    "\n",
    "\n",
    "df = pd.read_csv('Covid_19_train.csv', sep = \",\", header=None )\n",
    "df.columns = [\"date\", \"new_infections\"]\n",
    "df"
   ]
  },
  {
   "cell_type": "code",
   "execution_count": 8,
   "metadata": {},
   "outputs": [
    {
     "name": "stdout",
     "output_type": "stream",
     "text": [
      "[[0.00000e+00]\n",
      " [0.00000e+00]\n",
      " [0.00000e+00]\n",
      " [0.00000e+00]\n",
      " [0.00000e+00]\n",
      " [0.00000e+00]\n",
      " [0.00000e+00]\n",
      " [0.00000e+00]\n",
      " [0.00000e+00]\n",
      " [2.00000e+00]\n",
      " [2.00000e+00]\n",
      " [2.00000e+00]\n",
      " [2.00000e+00]\n",
      " [2.00000e+00]\n",
      " [2.00000e+00]\n",
      " [2.00000e+00]\n",
      " [3.00000e+00]\n",
      " [3.00000e+00]\n",
      " [3.00000e+00]\n",
      " [3.00000e+00]\n",
      " [3.00000e+00]\n",
      " [3.00000e+00]\n",
      " [3.00000e+00]\n",
      " [3.00000e+00]\n",
      " [3.00000e+00]\n",
      " [3.00000e+00]\n",
      " [3.00000e+00]\n",
      " [3.00000e+00]\n",
      " [3.00000e+00]\n",
      " [3.00000e+00]\n",
      " [2.00000e+01]\n",
      " [6.20000e+01]\n",
      " [1.55000e+02]\n",
      " [2.29000e+02]\n",
      " [3.22000e+02]\n",
      " [4.53000e+02]\n",
      " [6.55000e+02]\n",
      " [8.88000e+02]\n",
      " [1.12800e+03]\n",
      " [1.69400e+03]\n",
      " [2.03600e+03]\n",
      " [2.50200e+03]\n",
      " [3.08900e+03]\n",
      " [3.85800e+03]\n",
      " [4.63600e+03]\n",
      " [5.88300e+03]\n",
      " [7.37500e+03]\n",
      " [9.17200e+03]\n",
      " [1.01490e+04]\n",
      " [1.24620e+04]\n",
      " [1.24620e+04]\n",
      " [1.76600e+04]\n",
      " [2.11570e+04]\n",
      " [2.47470e+04]\n",
      " [2.79800e+04]\n",
      " [3.15060e+04]\n",
      " [3.57130e+04]\n",
      " [4.10350e+04]\n",
      " [4.70210e+04]\n",
      " [5.35780e+04]\n",
      " [5.91380e+04]\n",
      " [6.39270e+04]\n",
      " [6.91760e+04]\n",
      " [7.43860e+04]\n",
      " [8.05890e+04]\n",
      " [8.64980e+04]\n",
      " [9.24720e+04]\n",
      " [9.76890e+04]\n",
      " [1.01739e+05]\n",
      " [1.05792e+05]\n",
      " [1.10574e+05]\n",
      " [1.15242e+05]\n",
      " [1.19827e+05]\n",
      " [1.24632e+05]\n",
      " [1.28948e+05]\n",
      " [1.32547e+05]\n",
      " [1.35586e+05]]\n"
     ]
    }
   ],
   "source": [
    "\n",
    "## Preprocess data\n",
    "data = df['new_infections'].values\n",
    "data = data.reshape(-1, 1)\n",
    "print(data)"
   ]
  },
  {
   "cell_type": "code",
   "execution_count": 9,
   "metadata": {},
   "outputs": [],
   "source": [
    "\n",
    "scaler = MinMaxScaler()\n",
    "scaled_data = scaler.fit_transform(data)\n",
    "\n",
    "# Splitting full data set into train and test sets\n",
    "training_data_len = int(np.ceil( len(scaled_data) * .95 ))\n",
    "\n",
    "train_data = scaled_data[0:int(training_data_len), :]\n",
    "test_data = scaled_data[int(training_data_len)-7: , :]"
   ]
  },
  {
   "cell_type": "markdown",
   "metadata": {},
   "source": [
    "### Splitting Data into Sequences\n",
    "\n",
    "This block defines a function create_sequences() to split the scaled data into sequences of 7 days each (a week), where the target for each sequence is the number of new cases on the 8th day."
   ]
  },
  {
   "cell_type": "code",
   "execution_count": 16,
   "metadata": {},
   "outputs": [
    {
     "name": "stdout",
     "output_type": "stream",
     "text": [
      "(67,)\n"
     ]
    }
   ],
   "source": [
    "# Create sequences\n",
    "def create_sequences(data):\n",
    "    X, y = [], []\n",
    "    for i in range(7, len(data)):\n",
    "        X.append(data[i-7:i, 0])\n",
    "        y.append(data[i, 0])\n",
    "    return np.array(X), np.array(y)\n",
    "\n",
    "X_train, y_train = create_sequences(train_data)\n",
    "X_test, y_test = create_sequences(test_data)\n",
    "\n",
    "# Reshape the input into the shape required by LSTM layers\n",
    "X_train = np.reshape(X_train, (X_train.shape[0], X_train.shape[1], 1))\n",
    "X_test = np.reshape(X_test, (X_test.shape[0], X_test.shape[1], 1))\n",
    "\n",
    "print(y_train.shape)"
   ]
  },
  {
   "cell_type": "markdown",
   "metadata": {},
   "source": [
    "### Creating the LSTM ( An advanced variation of RNN ) Model:\n",
    "\n",
    "In this section, we define our LSTM model using the Sequential model API from Keras.\n",
    "\n",
    "- Sequential() initiates a linear stack of layers that you can add to one at a time with the add() function.\n",
    "\n",
    "- The first layer is an LSTM layer with 50 units/neurons, return_sequences=True means it returns the full sequence as output. This is necessary when stacking LSTM layers so that the following LSTM layer has the same sequence input. The input_shape is defined according to our training data (X_train.shape[1], 1).\n",
    "\n",
    "- The second LSTM layer also has 50 units but return_sequences=False this time. This means the LSTM will only return the output of the last time step, which is the default behavior and is suitable for this setup where we only care about the final prediction.\n",
    "\n",
    "- Then we add two Dense (fully connected) layers. The first one with 25 neurons and the second one with 1 neuron. The final dense layer has only one unit, which corresponds to our goal of predicting a single value.\n",
    "\n",
    "\n",
    "- Here we compile the model with the Adam optimizer and the Mean Squared Error (MSE) loss function. Adam is an efficient gradient descent optimization algorithm that's widely used in deep learning models. MSE is a popular loss function for regression problems, which measures the average squared differences between the predicted and actual values.\n",
    "\n",
    "- Finally, we fit (train) the model for a fixed number of epochs (iterations on a dataset). It uses our training data and labels (X_train and y_train), with the model trained for 50 epochs and a batch size of 32. The batch size is the number of samples that will be propagated through the network at once."
   ]
  },
  {
   "cell_type": "code",
   "execution_count": 17,
   "metadata": {},
   "outputs": [
    {
     "name": "stderr",
     "output_type": "stream",
     "text": [
      "2023-06-21 14:23:43.953847: I tensorflow/core/common_runtime/executor.cc:1197] [/device:CPU:0] (DEBUG INFO) Executor start aborting (this does not indicate an error and you can ignore this message): INVALID_ARGUMENT: You must feed a value for placeholder tensor 'gradients/split_2_grad/concat/split_2/split_dim' with dtype int32\n",
      "\t [[{{node gradients/split_2_grad/concat/split_2/split_dim}}]]\n",
      "2023-06-21 14:23:43.955791: I tensorflow/core/common_runtime/executor.cc:1197] [/device:CPU:0] (DEBUG INFO) Executor start aborting (this does not indicate an error and you can ignore this message): INVALID_ARGUMENT: You must feed a value for placeholder tensor 'gradients/split_grad/concat/split/split_dim' with dtype int32\n",
      "\t [[{{node gradients/split_grad/concat/split/split_dim}}]]\n",
      "2023-06-21 14:23:43.956636: I tensorflow/core/common_runtime/executor.cc:1197] [/device:CPU:0] (DEBUG INFO) Executor start aborting (this does not indicate an error and you can ignore this message): INVALID_ARGUMENT: You must feed a value for placeholder tensor 'gradients/split_1_grad/concat/split_1/split_dim' with dtype int32\n",
      "\t [[{{node gradients/split_1_grad/concat/split_1/split_dim}}]]\n",
      "2023-06-21 14:23:44.136949: I tensorflow/core/common_runtime/executor.cc:1197] [/device:CPU:0] (DEBUG INFO) Executor start aborting (this does not indicate an error and you can ignore this message): INVALID_ARGUMENT: You must feed a value for placeholder tensor 'gradients/split_2_grad/concat/split_2/split_dim' with dtype int32\n",
      "\t [[{{node gradients/split_2_grad/concat/split_2/split_dim}}]]\n",
      "2023-06-21 14:23:44.138032: I tensorflow/core/common_runtime/executor.cc:1197] [/device:CPU:0] (DEBUG INFO) Executor start aborting (this does not indicate an error and you can ignore this message): INVALID_ARGUMENT: You must feed a value for placeholder tensor 'gradients/split_grad/concat/split/split_dim' with dtype int32\n",
      "\t [[{{node gradients/split_grad/concat/split/split_dim}}]]\n",
      "2023-06-21 14:23:44.138926: I tensorflow/core/common_runtime/executor.cc:1197] [/device:CPU:0] (DEBUG INFO) Executor start aborting (this does not indicate an error and you can ignore this message): INVALID_ARGUMENT: You must feed a value for placeholder tensor 'gradients/split_1_grad/concat/split_1/split_dim' with dtype int32\n",
      "\t [[{{node gradients/split_1_grad/concat/split_1/split_dim}}]]\n"
     ]
    },
    {
     "name": "stdout",
     "output_type": "stream",
     "text": [
      "Epoch 1/50\n"
     ]
    },
    {
     "name": "stderr",
     "output_type": "stream",
     "text": [
      "2023-06-21 14:23:44.620555: I tensorflow/core/common_runtime/executor.cc:1197] [/device:CPU:0] (DEBUG INFO) Executor start aborting (this does not indicate an error and you can ignore this message): INVALID_ARGUMENT: You must feed a value for placeholder tensor 'gradients/split_2_grad/concat/split_2/split_dim' with dtype int32\n",
      "\t [[{{node gradients/split_2_grad/concat/split_2/split_dim}}]]\n",
      "2023-06-21 14:23:44.623012: I tensorflow/core/common_runtime/executor.cc:1197] [/device:CPU:0] (DEBUG INFO) Executor start aborting (this does not indicate an error and you can ignore this message): INVALID_ARGUMENT: You must feed a value for placeholder tensor 'gradients/split_grad/concat/split/split_dim' with dtype int32\n",
      "\t [[{{node gradients/split_grad/concat/split/split_dim}}]]\n",
      "2023-06-21 14:23:44.624617: I tensorflow/core/common_runtime/executor.cc:1197] [/device:CPU:0] (DEBUG INFO) Executor start aborting (this does not indicate an error and you can ignore this message): INVALID_ARGUMENT: You must feed a value for placeholder tensor 'gradients/split_1_grad/concat/split_1/split_dim' with dtype int32\n",
      "\t [[{{node gradients/split_1_grad/concat/split_1/split_dim}}]]\n",
      "2023-06-21 14:23:44.791198: I tensorflow/core/common_runtime/executor.cc:1197] [/device:CPU:0] (DEBUG INFO) Executor start aborting (this does not indicate an error and you can ignore this message): INVALID_ARGUMENT: You must feed a value for placeholder tensor 'gradients/split_2_grad/concat/split_2/split_dim' with dtype int32\n",
      "\t [[{{node gradients/split_2_grad/concat/split_2/split_dim}}]]\n",
      "2023-06-21 14:23:44.792602: I tensorflow/core/common_runtime/executor.cc:1197] [/device:CPU:0] (DEBUG INFO) Executor start aborting (this does not indicate an error and you can ignore this message): INVALID_ARGUMENT: You must feed a value for placeholder tensor 'gradients/split_grad/concat/split/split_dim' with dtype int32\n",
      "\t [[{{node gradients/split_grad/concat/split/split_dim}}]]\n",
      "2023-06-21 14:23:44.793534: I tensorflow/core/common_runtime/executor.cc:1197] [/device:CPU:0] (DEBUG INFO) Executor start aborting (this does not indicate an error and you can ignore this message): INVALID_ARGUMENT: You must feed a value for placeholder tensor 'gradients/split_1_grad/concat/split_1/split_dim' with dtype int32\n",
      "\t [[{{node gradients/split_1_grad/concat/split_1/split_dim}}]]\n",
      "2023-06-21 14:23:45.724828: I tensorflow/core/common_runtime/executor.cc:1197] [/device:CPU:0] (DEBUG INFO) Executor start aborting (this does not indicate an error and you can ignore this message): INVALID_ARGUMENT: You must feed a value for placeholder tensor 'gradients/split_2_grad/concat/split_2/split_dim' with dtype int32\n",
      "\t [[{{node gradients/split_2_grad/concat/split_2/split_dim}}]]\n",
      "2023-06-21 14:23:45.726475: I tensorflow/core/common_runtime/executor.cc:1197] [/device:CPU:0] (DEBUG INFO) Executor start aborting (this does not indicate an error and you can ignore this message): INVALID_ARGUMENT: You must feed a value for placeholder tensor 'gradients/split_grad/concat/split/split_dim' with dtype int32\n",
      "\t [[{{node gradients/split_grad/concat/split/split_dim}}]]\n",
      "2023-06-21 14:23:45.727483: I tensorflow/core/common_runtime/executor.cc:1197] [/device:CPU:0] (DEBUG INFO) Executor start aborting (this does not indicate an error and you can ignore this message): INVALID_ARGUMENT: You must feed a value for placeholder tensor 'gradients/split_1_grad/concat/split_1/split_dim' with dtype int32\n",
      "\t [[{{node gradients/split_1_grad/concat/split_1/split_dim}}]]\n",
      "2023-06-21 14:23:45.867593: I tensorflow/core/common_runtime/executor.cc:1197] [/device:CPU:0] (DEBUG INFO) Executor start aborting (this does not indicate an error and you can ignore this message): INVALID_ARGUMENT: You must feed a value for placeholder tensor 'gradients/split_2_grad/concat/split_2/split_dim' with dtype int32\n",
      "\t [[{{node gradients/split_2_grad/concat/split_2/split_dim}}]]\n",
      "2023-06-21 14:23:45.868864: I tensorflow/core/common_runtime/executor.cc:1197] [/device:CPU:0] (DEBUG INFO) Executor start aborting (this does not indicate an error and you can ignore this message): INVALID_ARGUMENT: You must feed a value for placeholder tensor 'gradients/split_grad/concat/split/split_dim' with dtype int32\n",
      "\t [[{{node gradients/split_grad/concat/split/split_dim}}]]\n",
      "2023-06-21 14:23:45.869796: I tensorflow/core/common_runtime/executor.cc:1197] [/device:CPU:0] (DEBUG INFO) Executor start aborting (this does not indicate an error and you can ignore this message): INVALID_ARGUMENT: You must feed a value for placeholder tensor 'gradients/split_1_grad/concat/split_1/split_dim' with dtype int32\n",
      "\t [[{{node gradients/split_1_grad/concat/split_1/split_dim}}]]\n"
     ]
    },
    {
     "name": "stdout",
     "output_type": "stream",
     "text": [
      "3/3 [==============================] - 3s 15ms/step - loss: 0.0868\n",
      "Epoch 2/50\n",
      "3/3 [==============================] - 0s 16ms/step - loss: 0.0509\n",
      "Epoch 3/50\n",
      "3/3 [==============================] - 0s 20ms/step - loss: 0.0296\n",
      "Epoch 4/50\n",
      "3/3 [==============================] - 0s 17ms/step - loss: 0.0238\n",
      "Epoch 5/50\n",
      "3/3 [==============================] - 0s 17ms/step - loss: 0.0207\n",
      "Epoch 6/50\n",
      "3/3 [==============================] - 0s 16ms/step - loss: 0.0108\n",
      "Epoch 7/50\n",
      "3/3 [==============================] - 0s 18ms/step - loss: 0.0036\n",
      "Epoch 8/50\n",
      "3/3 [==============================] - 0s 19ms/step - loss: 0.0025\n",
      "Epoch 9/50\n",
      "3/3 [==============================] - 0s 20ms/step - loss: 0.0037\n",
      "Epoch 10/50\n",
      "3/3 [==============================] - 0s 26ms/step - loss: 0.0042\n",
      "Epoch 11/50\n",
      "3/3 [==============================] - 0s 17ms/step - loss: 0.0047\n",
      "Epoch 12/50\n",
      "3/3 [==============================] - 0s 22ms/step - loss: 0.0043\n",
      "Epoch 13/50\n",
      "3/3 [==============================] - 0s 21ms/step - loss: 0.0022\n",
      "Epoch 14/50\n",
      "3/3 [==============================] - 0s 19ms/step - loss: 0.0017\n",
      "Epoch 15/50\n",
      "3/3 [==============================] - 0s 21ms/step - loss: 0.0035\n",
      "Epoch 16/50\n",
      "3/3 [==============================] - 0s 24ms/step - loss: 0.0042\n",
      "Epoch 17/50\n",
      "3/3 [==============================] - 0s 19ms/step - loss: 0.0031\n",
      "Epoch 18/50\n",
      "3/3 [==============================] - 0s 22ms/step - loss: 0.0019\n",
      "Epoch 19/50\n",
      "3/3 [==============================] - 0s 16ms/step - loss: 0.0024\n",
      "Epoch 20/50\n",
      "3/3 [==============================] - 0s 22ms/step - loss: 0.0026\n",
      "Epoch 21/50\n",
      "3/3 [==============================] - 0s 20ms/step - loss: 0.0017\n",
      "Epoch 22/50\n",
      "3/3 [==============================] - 0s 25ms/step - loss: 0.0014\n",
      "Epoch 23/50\n",
      "3/3 [==============================] - 0s 19ms/step - loss: 0.0015\n",
      "Epoch 24/50\n",
      "3/3 [==============================] - 0s 18ms/step - loss: 0.0013\n",
      "Epoch 25/50\n",
      "3/3 [==============================] - 0s 18ms/step - loss: 0.0013\n",
      "Epoch 26/50\n",
      "3/3 [==============================] - 0s 18ms/step - loss: 0.0013\n",
      "Epoch 27/50\n",
      "3/3 [==============================] - 0s 30ms/step - loss: 0.0014\n",
      "Epoch 28/50\n",
      "3/3 [==============================] - 0s 21ms/step - loss: 0.0012\n",
      "Epoch 29/50\n",
      "3/3 [==============================] - 0s 21ms/step - loss: 0.0012\n",
      "Epoch 30/50\n",
      "3/3 [==============================] - 0s 17ms/step - loss: 0.0013\n",
      "Epoch 31/50\n",
      "3/3 [==============================] - 0s 16ms/step - loss: 0.0011\n",
      "Epoch 32/50\n",
      "3/3 [==============================] - 0s 16ms/step - loss: 0.0010\n",
      "Epoch 33/50\n",
      "3/3 [==============================] - 0s 17ms/step - loss: 0.0010\n",
      "Epoch 34/50\n",
      "3/3 [==============================] - 0s 33ms/step - loss: 0.0012\n",
      "Epoch 35/50\n",
      "3/3 [==============================] - 0s 23ms/step - loss: 8.5912e-04\n",
      "Epoch 36/50\n",
      "3/3 [==============================] - 0s 40ms/step - loss: 9.5701e-04\n",
      "Epoch 37/50\n",
      "3/3 [==============================] - 0s 40ms/step - loss: 0.0011\n",
      "Epoch 38/50\n",
      "3/3 [==============================] - 0s 18ms/step - loss: 9.2119e-04\n",
      "Epoch 39/50\n",
      "3/3 [==============================] - 0s 21ms/step - loss: 7.8069e-04\n",
      "Epoch 40/50\n",
      "3/3 [==============================] - 0s 20ms/step - loss: 9.1698e-04\n",
      "Epoch 41/50\n",
      "3/3 [==============================] - 0s 18ms/step - loss: 7.8066e-04\n",
      "Epoch 42/50\n",
      "3/3 [==============================] - 0s 19ms/step - loss: 7.5572e-04\n",
      "Epoch 43/50\n",
      "3/3 [==============================] - 0s 23ms/step - loss: 7.4368e-04\n",
      "Epoch 44/50\n",
      "3/3 [==============================] - 0s 15ms/step - loss: 7.6306e-04\n",
      "Epoch 45/50\n",
      "3/3 [==============================] - 0s 26ms/step - loss: 7.1487e-04\n",
      "Epoch 46/50\n",
      "3/3 [==============================] - 0s 24ms/step - loss: 7.0139e-04\n",
      "Epoch 47/50\n",
      "3/3 [==============================] - 0s 37ms/step - loss: 0.0013\n",
      "Epoch 48/50\n",
      "3/3 [==============================] - 0s 19ms/step - loss: 0.0011\n",
      "Epoch 49/50\n",
      "3/3 [==============================] - 0s 21ms/step - loss: 6.6669e-04\n",
      "Epoch 50/50\n",
      "3/3 [==============================] - 0s 23ms/step - loss: 6.5122e-04\n"
     ]
    },
    {
     "data": {
      "text/plain": [
       "<keras.callbacks.History at 0x7f896040b970>"
      ]
     },
     "execution_count": 17,
     "metadata": {},
     "output_type": "execute_result"
    }
   ],
   "source": [
    "# Build LSTM model\n",
    "model = Sequential()\n",
    "model.add(LSTM(units=50, return_sequences=True, input_shape=(X_train.shape[1], 1)))\n",
    "model.add(LSTM(units=50, return_sequences=False))\n",
    "model.add(Dense(units=25))\n",
    "model.add(Dense(units=1))\n",
    "\n",
    "model.compile(optimizer='adam', loss='mean_squared_error')\n",
    "\n",
    "# Train the model\n",
    "model.fit(X_train, y_train, epochs=50, batch_size=32)"
   ]
  },
  {
   "cell_type": "markdown",
   "metadata": {},
   "source": [
    "### Predicting Future Cases:\n",
    "\n",
    "This block of code predicts the number of new cases for a future day based on the most recent sequence of data (last 7 days). It reshapes the test data to fit the model's input shape requirements and performs an inverse transform to revert the scaling done earlier."
   ]
  },
  {
   "cell_type": "code",
   "execution_count": 19,
   "metadata": {},
   "outputs": [
    {
     "name": "stdout",
     "output_type": "stream",
     "text": [
      "1/1 [==============================] - 0s 43ms/step\n"
     ]
    }
   ],
   "source": [
    "# Predicting on test data\n",
    "predicted_values = model.predict(X_test)\n",
    "predicted_values = scaler.inverse_transform(predicted_values)\n"
   ]
  },
  {
   "cell_type": "markdown",
   "metadata": {},
   "source": [
    "### Plotting Predicted vs. Actual Cases:\n",
    "\n",
    "This code generates a plot comparing the actual number of new cases to the number of new cases predicted by the RNN model. The x-axis represents time (in days), and the y-axis represents the number of new cases"
   ]
  },
  {
   "cell_type": "code",
   "execution_count": 20,
   "metadata": {},
   "outputs": [
    {
     "data": {
      "image/png": "[encoded data removed]",
      "text/plain": [
       "<Figure size 1600x800 with 1 Axes>"
      ]
     },
     "metadata": {},
     "output_type": "display_data"
    }
   ],
   "source": [
    "# Getting the real values\n",
    "real_values = scaler.inverse_transform(y_test.reshape(-1, 1))\n",
    "\n",
    "# Plotting the results\n",
    "plt.figure(figsize=(16,8))\n",
    "plt.scatter(range(len(real_values)), real_values, color='blue', label='Actual number of new infections')\n",
    "plt.scatter(range(len(predicted_values)), predicted_values, color='red', label='Predicted number of new infections')\n",
    "plt.title('New Infections Prediction')\n",
    "plt.xlabel('Time')\n",
    "plt.ylabel('Number of new infections')\n",
    "plt.legend()\n",
    "plt.show()"
   ]
  },
  {
   "cell_type": "markdown",
   "metadata": {},
   "source": [
    "### Your Task\n",
    "\n",
    "- For this practical you will use the Indian Liver Patient Dataset (lipid ) data set. \n",
    "\n",
    "This data set contains 416 liver patient records and 167 non liver patient records.The data set was collected from north east of Andhra Pradesh, India. The class label divides the patients into 2 groups (liver patient or not). This data set contains 441 male patient records and 142 female patient records.\n",
    "\n",
    "\n",
    "1. Load the whole Covid 19 infection count data set.\n",
    "2. Subset the data where Country_Region = \"China\". Only take the data \"Date\" and  \"ConfirmedCases\" \n",
    "3. Split the data into train and test by leaving 10% data for test. \n",
    "4. Train a RNN classifier using the train data.\n",
    "5. Apply the trained model on the test data.\n",
    "6. Plot the predicted vs real infection values for the test data set. "
   ]
  },
  {
   "cell_type": "code",
   "execution_count": 2,
   "metadata": {},
   "outputs": [],
   "source": [
    "import pandas as pd\n",
    "import numpy as np\n",
    "from sklearn.preprocessing import MinMaxScaler\n",
    "from keras.models import Sequential\n",
    "from keras.layers import Dense, LSTM\n",
    "import matplotlib.pyplot as plt\n",
    "\n",
    "## Task 1. Load the whole Covid 19 infection count data set.\n",
    "## Task 2. Subset the for China  \n",
    "\n",
    "df = pd.read_csv('covid_19_complete_dataset.csv')\n",
    "\n",
    "#  -------- Complte ----------- # \n",
    "# df_china = ...\n",
    "# df_china.columns = [\"date\", \"new_infections\"]\n",
    "# df_china"
   ]
  },
  {
   "cell_type": "code",
   "execution_count": 4,
   "metadata": {},
   "outputs": [],
   "source": [
    "## Task 3. Split the data into train and test by leaving 10% data for test. \n",
    "\n"
   ]
  },
  {
   "cell_type": "code",
   "execution_count": 3,
   "metadata": {},
   "outputs": [],
   "source": [
    "## Task 4. Train a RNN classifier using the train data.\n",
    "\n",
    "\n"
   ]
  },
  {
   "cell_type": "code",
   "execution_count": 5,
   "metadata": {},
   "outputs": [],
   "source": [
    "## Task 5. Apply the trained model on the test data.\n",
    "## Task 6. Plot the predicted vs real infection values for the test data set. \n",
    "\n"
   ]
  }
 ],
 "metadata": {
  "interpreter": {
   "hash": "27504229a786ecc4bac7f6801848e44cb1a63648e4d666cbb9fdea5e9f215e02"
  },
  "kernelspec": {
   "display_name": "Python 3.8 [python/3.8]",
   "language": "python",
   "name": "python3"
  },
  "language_info": {
   "codemirror_mode": {
    "name": "ipython",
    "version": 3
   },
   "file_extension": ".py",
   "mimetype": "text/x-python",
   "name": "python",
   "nbconvert_exporter": "python",
   "pygments_lexer": "ipython3",
   "version": "3.8.16"
  }
 },
 "nbformat": 4,
 "nbformat_minor": 4
}
